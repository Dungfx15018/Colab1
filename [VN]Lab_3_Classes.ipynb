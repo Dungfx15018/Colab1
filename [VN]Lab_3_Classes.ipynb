{
 "nbformat": 4,
 "nbformat_minor": 0,
 "metadata": {
  "kernelspec": {
   "display_name": "Python 3",
   "language": "python",
   "name": "python3"
  },
  "language_info": {
   "codemirror_mode": {
    "name": "ipython",
    "version": 3
   },
   "file_extension": ".py",
   "mimetype": "text/x-python",
   "name": "python",
   "nbconvert_exporter": "python",
   "pygments_lexer": "ipython3",
   "version": "3.7.6"
  },
  "colab": {
   "provenance": []
  }
 },
 "cells": [
  {
   "cell_type": "markdown",
   "metadata": {
    "id": "DZV6XFC21D2s"
   },
   "source": [
    "# Lớp (Class) và Đối tượng (Object) trong Python\n",
    "\n",
    "Thời lượng ước tính: **40** phút\n",
    "\n",
    "## Mục tiêu\n",
    "\n",
    "Sau khi hoàn thành lab này, bạn sẽ có thể:\n",
    "\n",
    "-   Làm việc với lớp và đối tượng\n",
    "-   Phân biệt và xác định các thuộc tính và phương thức\n"
   ]
  },
  {
   "cell_type": "markdown",
   "metadata": {
    "id": "4528DlqO1D22"
   },
   "source": [
    "##<h2>Mục lục</h2>\n",
    "<div class=\"alert alert-block alert-info\" style=\"margin-top: 20px\">\n",
    "    <ul>\n",
    "        <li>\n",
    "            <a href=\"#intro\">Giới thiệu về Lớp và Đối tượng</a>\n",
    "            <ul>\n",
    "                <li><a href=\"create\">Tạo một lớp</a></li>\n",
    "                <li><a href=\"instance\">Thực thể của một Lớp: Các đối tượng và thuộc tính</a></li>\n",
    "                <li><a href=\"method\">Phương thức</a></li>\n",
    "            </ul>\n",
    "        </li>\n",
    "        <li><a href=\"creating\">Tạo một lớp</a></li>\n",
    "        <li><a href=\"circle\">Tạo thực thể của lớp Circle</a></li>\n",
    "        <li><a href=\"rect\">Lớp Rectangle</a></li>\n",
    "        <li><a \n",
    "        href=\"exercise\">Exercises</a></li>\n",
    "    </ul>\n",
    "    \n",
    "</div>\n",
    "\n",
    "<hr>\n"
   ]
  },
  {
   "cell_type": "markdown",
   "metadata": {
    "id": "zSZkhmGf1D24"
   },
   "source": [
    "##<h2 id=\"intro\">Giới thiệu về Lớp (Class) và Đối tượng (Object)</h2>\n"
   ]
  },
  {
   "cell_type": "markdown",
   "metadata": {
    "id": "NY_LoJRq1D24"
   },
   "source": [
    "##<h3>Tạo một lớp</h3>\n"
   ]
  },
  {
   "cell_type": "markdown",
   "metadata": {
    "id": "gXD6weAc1D24"
   },
   "source": [
    "Phần đầu tiên của việc tạo một lớp là đặt tên cho nó: Trong notebook này, chúng ta sẽ tạo hai lớp, Circle và Rectangle. Chúng ta cần xác định tất cả dữ liệu tạo nên lớp đó và gọi đó là thuộc tính. Hãy nghĩ về bước này giống như tạo một bản in màu xanh dương mà chúng ta sẽ sử dụng để tạo các đối tượng. Trong hình 1, chúng ta thấy có hai lớp, circle (hình tròn) và rectangle (hình chữ nhật). Mỗi lớp lại có thuộc tính là các biến. Lớp circle có thuộc tính radius (bán kính) và color (màu), trong khi retangle có thuộc tính height (chiều cao) và width (chiều rộng). Hãy sử dụng các ví dụ trực quan về các hình dạng này trước khi tìm hiểu code để giúp bạn làm quen với từ vựng."
   ]
  },
  {
   "cell_type": "markdown",
   "metadata": {
    "id": "3hqrDsCH1D25"
   },
   "source": [
    "<img src=\"https://cf-courses-data.s3.us.cloud-object-storage.appdomain.cloud/IBMDeveloperSkillsNetwork-PY0101EN-SkillsNetwork/labs/Module%203/images/ClassesClass.png\" width=\"500\" />\n"
   ]
  },
  {
   "cell_type": "markdown",
   "metadata": {
    "id": "0YsNjdQO1D25"
   },
   "source": [
    "<i> Hình 1: Các lớp circle và retangle, và mỗi lớp có các thuộc tính riêng. Lớp circle có thuộc tính radius và color, lớp retangle có thuộc tính height và width. </i>"
   ]
  },
  {
   "cell_type": "markdown",
   "metadata": {
    "id": "swvCK_-A1D26"
   },
   "source": [
    "##<h3 id=\"instance\">Thực thể (Instance) của một Lớp: Đối tượng và Thuộc tính</h3>\n"
   ]
  },
  {
   "cell_type": "markdown",
   "metadata": {
    "id": "ydq0Ndja1D26"
   },
   "source": [
    "Thực thể của đối tượng là hiện thực hóa của một lớp, và trong Hình 2, chúng ta thấy ba thực thể của lớp circle. Chúng ta đặt tên cho mỗi đối tượng: red circle, yellow circle và green circle. Mỗi đối tượng có các thuộc tính khác nhau, vì vậy chúng ta hãy tập trung vào thuộc tính màu sắc cho từng đối tượng."
   ]
  },
  {
   "cell_type": "markdown",
   "metadata": {
    "id": "bxKeQ6D61D26"
   },
   "source": [
    "<img src=\"https://cf-courses-data.s3.us.cloud-object-storage.appdomain.cloud/IBMDeveloperSkillsNetwork-PY0101EN-SkillsNetwork/labs/Module%203/images/ClassesObj.png\" width=\"500\" />\n"
   ]
  },
  {
   "cell_type": "markdown",
   "metadata": {
    "id": "4USi2K9m1D26"
   },
   "source": [
    "<i> Hình 2: Ba thực thể của lớp circle hoặc ba đối tượng của kiểu circle. </i>"
   ]
  },
  {
   "cell_type": "markdown",
   "metadata": {
    "id": "zMoW_ehz1D27"
   },
   "source": [
    "Thuộc tính màu cho red circle là màu đỏ, thuộc tính màu đối với đối tượng greeen circle là xanh lá và thuộc tính màu đối với yellow circle là màu vàng."
   ]
  },
  {
   "cell_type": "markdown",
   "metadata": {
    "id": "OAjMJwR11D27"
   },
   "source": [
    "##<h3 id=\"method\">Phương thức</h3>\n"
   ]
  },
  {
   "cell_type": "markdown",
   "metadata": {
    "id": "gz7QXVeY1D27"
   },
   "source": [
    "Các phương thức cung cấp cho bạn một cách để thay đổi hoặc tương tác với đối tượng; chúng là các hàm tương tác với các đối tượng. Ví dụ: giả sử chúng ta muốn tăng bán kính của hình tròn lên, có thể tạo một phương thức là **add_radius(r)** để tăng bán kính lên **r**. Điều này được thể hiện trong hình 3, trong đó sau khi áp dụng phương thức cho \"orange circle object\", bán kính của đối tượng tăng lên tương ứng. Ký hiệu \".\" có nghĩa là áp dụng phương thức cho đối tượng, về cơ bản là áp dụng một hàm cho thông tin trong đối tượng."
   ]
  },
  {
   "cell_type": "markdown",
   "metadata": {
    "id": "SyRPNc3J1D28"
   },
   "source": [
    "<img src=\"https://cf-courses-data.s3.us.cloud-object-storage.appdomain.cloud/IBMDeveloperSkillsNetwork-PY0101EN-SkillsNetwork/labs/Module%203/images/ClassesMethod.png\" width=\"500\" /> \n"
   ]
  },
  {
   "cell_type": "markdown",
   "metadata": {
    "id": "XCdzhZAS1D28"
   },
   "source": [
    "<i> Hình 3: Áp dụng phương thức “add_radius” cho đối tượng orange circle. </i>"
   ]
  },
  {
   "cell_type": "markdown",
   "metadata": {
    "id": "qpnwmOfR1D28"
   },
   "source": [
    "<hr>\n"
   ]
  },
  {
   "cell_type": "markdown",
   "metadata": {
    "id": "Fc5hQLMi1D29"
   },
   "source": [
    "##<h2 id=\"creating\">Tạo một Lớp</h2>\n"
   ]
  },
  {
   "cell_type": "markdown",
   "metadata": {
    "id": "ihLcno8Y1D29"
   },
   "source": [
    "Bây giờ chúng ta sẽ tạo lớp Circle, nhưng trước tiên, hãy import thư viện để vẽ các đối tượng:"
   ]
  },
  {
   "cell_type": "code",
   "metadata": {
    "jupyter": {
     "outputs_hidden": true
    },
    "id": "PWQ75MgL1D29"
   },
   "source": [
    "# Import thư viện\n",
    "\n",
    "import matplotlib.pyplot as plt\n",
    "%matplotlib inline  "
   ],
   "execution_count": null,
   "outputs": []
  },
  {
   "cell_type": "markdown",
   "metadata": {
    "id": "RDx2Zma-1D2-"
   },
   "source": [
    "Bước đầu tiên trong việc tạo lớp của bạn là dùng từ khóa <code> class</code>, sau đó đặt tên của lớp như trong Hình 4. Trong khóa học này, lớp cha sẽ luôn là đối tượng:"
   ]
  },
  {
   "cell_type": "markdown",
   "metadata": {
    "id": "ItEJuiLF1D2-"
   },
   "source": [
    "<img src=\"https://cf-courses-data.s3.us.cloud-object-storage.appdomain.cloud/IBMDeveloperSkillsNetwork-PY0101EN-SkillsNetwork/labs/Module%203/images/ClassesDefine.png\" width=\"400\" />\n"
   ]
  },
  {
   "cell_type": "markdown",
   "metadata": {
    "id": "4DLDwCMQ1D2-"
   },
   "source": [
    "<i>Hình 4: Tạo lớp Circle.</i>\n"
   ]
  },
  {
   "cell_type": "markdown",
   "metadata": {
    "id": "_vmXvi7x1D2_"
   },
   "source": [
    "Bước tiếp theo, một phương thức đặc biệt là hàm tạo <code>__init__</code>, được sử dụng để khởi tạo đối tượng. Đầu vào là các thuộc tính dữ liệu. Thuật ngữ <code> self</code> chứa tất cả các thuộc tính trong tập hợp. Ví dụ: <code> self.color</code> cung cấp giá trị của thuộc tính color và <code> self.radius</code> sẽ cung cấp cho bạn bán kính của đối tượng. Chúng ta cũng có phương thức <code> add_radius()</code> với tham số <code>r</code>, phương thức thêm giá trị của <code> r</code> vào thuộc tính radius. Để truy cập bán kính, chúng ta sử dụng cú pháp <code> self.radius</code>. Cú pháp có nhãn được tóm tắt trong Hình 5:"
   ]
  },
  {
   "cell_type": "markdown",
   "metadata": {
    "id": "BSdKQKOH1D2_"
   },
   "source": [
    "<img src=\"https://cf-courses-data.s3.us.cloud-object-storage.appdomain.cloud/IBMDeveloperSkillsNetwork-PY0101EN-SkillsNetwork/labs/Module%203/images/ClassesCircle.png\" width=\"600\" />\n"
   ]
  },
  {
   "cell_type": "markdown",
   "metadata": {
    "id": "DbDlHARP1D3A"
   },
   "source": [
    "<i> Hình 5: Cú pháp được gắn nhãn của đối tượng circle. </i>"
   ]
  },
  {
   "cell_type": "markdown",
   "metadata": {
    "id": "EzmcCk0A1D3A"
   },
   "source": [
    "Đối tượng thực tế được hiển thị bên dưới. Chúng ta cũng có phương thức <code> drawCircle</code> hiển thị hình ảnh của một vòng tròn. Chúng ta đặt bán kính mặc định là 3 và màu mặc định là blue:"
   ]
  },
  {
   "cell_type": "code",
   "metadata": {
    "id": "vMN7bhjZ1D3A"
   },
   "source": [
    "# Tạo lớp Circle\n",
    "\n",
    "class Circle(object):\n",
    "    \n",
    "    # Hàm tạo\n",
    "    def __init__(self, radius=3, color='blue'):\n",
    "        self.radius = radius\n",
    "        self.color = color \n",
    "    \n",
    "    # Phương thức\n",
    "    def add_radius(self, r):\n",
    "        self.radius = self.radius + r\n",
    "        return(self.radius)\n",
    "    \n",
    "    # Phương thức\n",
    "    def drawCircle(self):\n",
    "        plt.gca().add_patch(plt.Circle((0, 0), radius=self.radius, fc=self.color))\n",
    "        plt.axis('scaled')\n",
    "        plt.show()  "
   ],
   "execution_count": null,
   "outputs": []
  },
  {
   "cell_type": "markdown",
   "metadata": {
    "id": "2RQintZh1D3B"
   },
   "source": [
    "<hr>\n"
   ]
  },
  {
   "cell_type": "markdown",
   "metadata": {
    "id": "41QQfrSQ1D3B"
   },
   "source": [
    "##<h2 id=\"circle\">Tạo thực thể của lớp Circle</h2>\n"
   ]
  },
  {
   "cell_type": "markdown",
   "metadata": {
    "id": "l4wmJD_Q1D3B"
   },
   "source": [
    "Hãy tạo đối tượng <code>RedCircle</code> của kiểu Circle để thực hiện như sau:\n"
   ]
  },
  {
   "cell_type": "code",
   "metadata": {
    "id": "GaLKTmlp1D3C"
   },
   "source": [
    "# Tạo đối tượng RedCircle\n",
    "\n",
    "RedCircle = Circle(10, 'red')"
   ],
   "execution_count": null,
   "outputs": []
  },
  {
   "cell_type": "markdown",
   "metadata": {
    "id": "mQSfCu1W1D3D"
   },
   "source": [
    "Chúng ta có thể sử dụng lệnh <code> dir</code> để lấy danh sách các phương thức của đối tượng. Nhiều phương thức trong số đó là các phương thức mặc định của Python."
   ]
  },
  {
   "cell_type": "code",
   "metadata": {
    "id": "lFUfNybP1D3E"
   },
   "source": [
    "# Tìm ra các phương thức có thể sử dụng cho đối tượng RedCircle\n",
    "\n",
    "dir(RedCircle)"
   ],
   "execution_count": null,
   "outputs": []
  },
  {
   "cell_type": "markdown",
   "metadata": {
    "id": "DpKGY-Ef1D3E"
   },
   "source": [
    "Chúng ta có thể xem xét các thuộc tính dữ liệu của đối tượng:"
   ]
  },
  {
   "cell_type": "code",
   "metadata": {
    "id": "ACkvJJQU1D3E"
   },
   "source": [
    "# In ra thuộc tính đối tượng radius\n",
    "\n",
    "RedCircle.radius"
   ],
   "execution_count": null,
   "outputs": []
  },
  {
   "cell_type": "code",
   "metadata": {
    "id": "00ftv-cI1D3F"
   },
   "source": [
    "# In ra thuộc tính đối tượng color\n",
    "\n",
    "RedCircle.color"
   ],
   "execution_count": null,
   "outputs": []
  },
  {
   "cell_type": "markdown",
   "metadata": {
    "id": "cjeYqdIJ1D3F"
   },
   "source": [
    "Chúng ta có thể thay đổi các thuộc tính dữ liệu của đối tượng:"
   ]
  },
  {
   "cell_type": "code",
   "metadata": {
    "id": "u5MPllvL1D3G"
   },
   "source": [
    "# Thiết lập thuộc tính đối tượng radius\n",
    "\n",
    "RedCircle.radius = 1\n",
    "RedCircle.radius"
   ],
   "execution_count": null,
   "outputs": []
  },
  {
   "cell_type": "markdown",
   "metadata": {
    "id": "ifJvu9pL1D3H"
   },
   "source": [
    "Chúng ta có thể vẽ đối tượng bằng phương thức <code> drawCircle()</code>:"
   ]
  },
  {
   "cell_type": "code",
   "metadata": {
    "id": "LvHGKOXh1D3H"
   },
   "source": [
    "# Gọi phương thức drawCircle\n",
    "\n",
    "RedCircle.drawCircle()"
   ],
   "execution_count": null,
   "outputs": []
  },
  {
   "cell_type": "markdown",
   "metadata": {
    "id": "OHz4w9o81D3I"
   },
   "source": [
    "Chúng ta có thể tăng bán kính của hình tròn bằng cách áp dụng phương thức <code> add_radius()</code>. Hãy tăng bán kính lên 2 và sau đó là 5:"
   ]
  },
  {
   "cell_type": "code",
   "metadata": {
    "id": "HN32qDzA1D3I"
   },
   "source": [
    "# Sử dụng phương thức để thay đổi thuộc tính đối tượng radius\n",
    "\n",
    "print('Radius of object:',RedCircle.radius)\n",
    "RedCircle.add_radius(2)\n",
    "print('Radius of object of after applying the method add_radius(2):',RedCircle.radius)\n",
    "RedCircle.add_radius(5)\n",
    "print('Radius of object of after applying the method add_radius(5):',RedCircle.radius)"
   ],
   "execution_count": null,
   "outputs": []
  },
  {
   "cell_type": "markdown",
   "metadata": {
    "id": "tqyT7UEo1D3I"
   },
   "source": [
    "Hãy tạo một vòng tròn màu xanh dương. Vì màu mặc định là xanh dương, tất cả những gì chúng ta phải làm là chỉ định bán kính là bao nhiêu:"
   ]
  },
  {
   "cell_type": "code",
   "metadata": {
    "id": "YydIimi41D3J"
   },
   "source": [
    "# Tạo một hình tròn màu xanh dương với bán kính cho trước\n",
    "\n",
    "BlueCircle = Circle(radius=100)"
   ],
   "execution_count": null,
   "outputs": []
  },
  {
   "cell_type": "markdown",
   "metadata": {
    "id": "CT-2Wu1j1D3J"
   },
   "source": [
    "Như trước đó, chúng ta có thể truy cập các thuộc tính của thực thể của lớp bằng cách sử dụng ký hiệu dấu chấm:"
   ]
  },
  {
   "cell_type": "code",
   "metadata": {
    "id": "gCol6S6E1D3J"
   },
   "source": [
    "# In ra thuộc tính đối tượng radius\n",
    "\n",
    "BlueCircle.radius"
   ],
   "execution_count": null,
   "outputs": []
  },
  {
   "cell_type": "code",
   "metadata": {
    "id": "oEA7bbLi1D3J"
   },
   "source": [
    "# In ra thuộc tính đối tượng color\n",
    "\n",
    "BlueCircle.color"
   ],
   "execution_count": null,
   "outputs": []
  },
  {
   "cell_type": "markdown",
   "metadata": {
    "id": "NSj2y-8r1D3J"
   },
   "source": [
    "Chúng ta có thể vẽ đối tượng bằng phương thức <code> drawCircle()</code>:"
   ]
  },
  {
   "cell_type": "code",
   "metadata": {
    "id": "4qyBJpkg1D3K"
   },
   "source": [
    "# Gọi phương thức drawCircle\n",
    "\n",
    "BlueCircle.drawCircle()"
   ],
   "execution_count": null,
   "outputs": []
  },
  {
   "cell_type": "markdown",
   "metadata": {
    "id": "3f2opns01D3K"
   },
   "source": [
    "So sánh trục x và y của hình với <code> RedCircle</code>; chúng khác nhau."
   ]
  },
  {
   "cell_type": "markdown",
   "metadata": {
    "id": "AtIye4xx1D3K"
   },
   "source": [
    "<hr>\n"
   ]
  },
  {
   "cell_type": "markdown",
   "metadata": {
    "id": "eVmww-1n1D3K"
   },
   "source": [
    "##<h2 id=\"rect\">Lớp Rectangle</h2>\n"
   ]
  },
  {
   "cell_type": "markdown",
   "metadata": {
    "id": "g44_9YCb1D3K"
   },
   "source": [
    "Hãy tạo lớp rectangle với các thuộc tính height, width và color. Chúng ta sẽ chỉ thêm phương thức để vẽ đối tượng rectangle:"
   ]
  },
  {
   "cell_type": "code",
   "metadata": {
    "jupyter": {
     "outputs_hidden": true
    },
    "id": "BDz0_llx1D3L"
   },
   "source": [
    "# Tạo lớp Rectangle mới để tạo đối tượng rectangle\n",
    "\n",
    "class Rectangle(object):\n",
    "    \n",
    "    # Hàm tạo\n",
    "    def __init__(self, width=2, height=3, color='r'):\n",
    "        self.height = height \n",
    "        self.width = width\n",
    "        self.color = color\n",
    "    \n",
    "    # Phương thức\n",
    "    def drawRectangle(self):\n",
    "        plt.gca().add_patch(plt.Rectangle((0, 0), self.width, self.height ,fc=self.color))\n",
    "        plt.axis('scaled')\n",
    "        plt.show()\n",
    "        "
   ],
   "execution_count": null,
   "outputs": []
  },
  {
   "cell_type": "markdown",
   "metadata": {
    "id": "ys2uyUeQ1D3L"
   },
   "source": [
    "Hãy tạo đối tượng <code> SkinnyBlueRectangle</code> thuộc kiểu Rectangle. Chiều rộng là 2, chiều cao là 3 và màu là xanh lục:"
   ]
  },
  {
   "cell_type": "code",
   "metadata": {
    "id": "I0meToDz1D3L"
   },
   "source": [
    "# Tạo đối tượng rectangle mới\n",
    "\n",
    "SkinnyBlueRectangle = Rectangle(2, 10, 'blue')"
   ],
   "execution_count": null,
   "outputs": []
  },
  {
   "cell_type": "markdown",
   "metadata": {
    "id": "-vYWfqTU1D3M"
   },
   "source": [
    "Như trước đó, chúng ta có thể truy cập các thuộc tính của thực thể của lớp bằng cách sử dụng ký hiệu dấu chấm:"
   ]
  },
  {
   "cell_type": "code",
   "metadata": {
    "id": "Dr5lIRuD1D3M"
   },
   "source": [
    "# In ra thuộc tính đối tượng height\n",
    "\n",
    "SkinnyBlueRectangle.height "
   ],
   "execution_count": null,
   "outputs": []
  },
  {
   "cell_type": "code",
   "metadata": {
    "id": "2kfMD6Ro1D3M"
   },
   "source": [
    "# In ra thuộc tính đối tượng width\n",
    "\n",
    "SkinnyBlueRectangle.width"
   ],
   "execution_count": null,
   "outputs": []
  },
  {
   "cell_type": "code",
   "metadata": {
    "id": "JQm2bj511D3M"
   },
   "source": [
    "# In ra thuộc tính đối tượng color\n",
    "\n",
    "SkinnyBlueRectangle.color"
   ],
   "execution_count": null,
   "outputs": []
  },
  {
   "cell_type": "markdown",
   "metadata": {
    "id": "RNCkPxpQ1D3M"
   },
   "source": [
    "Chúng ta có thể vẽ đối tượng:"
   ]
  },
  {
   "cell_type": "code",
   "metadata": {
    "scrolled": true,
    "id": "thucfHCu1D3N"
   },
   "source": [
    "# Sử dụng phương thức drawRectangle để vẽ hình\n",
    "\n",
    "SkinnyBlueRectangle.drawRectangle()"
   ],
   "execution_count": null,
   "outputs": []
  },
  {
   "cell_type": "markdown",
   "metadata": {
    "id": "GvTbfdrK1D3N"
   },
   "source": [
    "Hãy tạo đối tượng <code> FatYellowRectangle</code> thuộc kiểu Rectangle:"
   ]
  },
  {
   "cell_type": "code",
   "metadata": {
    "jupyter": {
     "outputs_hidden": true
    },
    "id": "RMFbBtO51D3N"
   },
   "source": [
    "# Tạo đối tượng rectangle mới\n",
    "\n",
    "FatYellowRectangle = Rectangle(20, 5, 'yellow')"
   ],
   "execution_count": null,
   "outputs": []
  },
  {
   "cell_type": "markdown",
   "metadata": {
    "id": "qz7DSL7P1D3N"
   },
   "source": [
    "Chúng ta có thể truy cập các thuộc tính của thực thể của lớp bằng cách sử dụng ký hiệu dấu chấm:"
   ]
  },
  {
   "cell_type": "code",
   "metadata": {
    "id": "YGpNZHau1D3N"
   },
   "source": [
    "# In ra thuộc tính đối tượng height\n",
    "\n",
    "FatYellowRectangle.height "
   ],
   "execution_count": null,
   "outputs": []
  },
  {
   "cell_type": "code",
   "metadata": {
    "id": "oGc5w-nD1D3O"
   },
   "source": [
    "# In ra thuộc tính đối tượng width\n",
    "\n",
    "FatYellowRectangle.width"
   ],
   "execution_count": null,
   "outputs": []
  },
  {
   "cell_type": "code",
   "metadata": {
    "id": "moS_fKjA1D3O"
   },
   "source": [
    "# In ra thuộc tính đối tượng color\n",
    "\n",
    "FatYellowRectangle.color"
   ],
   "execution_count": null,
   "outputs": []
  },
  {
   "cell_type": "markdown",
   "metadata": {
    "id": "S7q8MFRU1D3O"
   },
   "source": [
    "Chúng ta có thể vẽ đối tượng:"
   ]
  },
  {
   "cell_type": "code",
   "metadata": {
    "id": "YHWIa3zW1D3O"
   },
   "source": [
    "# Sử dụng phương thức drawRectangle để vẽ hình\n",
    "\n",
    "FatYellowRectangle.drawRectangle()"
   ],
   "execution_count": null,
   "outputs": []
  },
  {
   "cell_type": "markdown",
   "metadata": {
    "id": "0BpbVa0z1D3O"
   },
   "source": [
    "<hr>\n"
   ]
  },
  {
   "cell_type": "markdown",
   "metadata": {
    "id": "-jBpyHgr1D3O"
   },
   "source": [
    "##<h2 id=\"rect\">Exercise</h2>\n"
   ]
  },
  {
   "cell_type": "markdown",
   "metadata": {
    "id": "-g-T3N0c1D3P"
   },
   "source": [
    "<h4> Phân tích văn bản </h4>\n"
   ]
  },
  {
   "cell_type": "markdown",
   "metadata": {
    "id": "252trczm1D3P"
   },
   "source": [
    "Bạn đã được bạn của mình, một người đam mê ngôn ngữ học, tuyển dụng để tạo ra một công cụ tiện ích có thể thực hiện phân tích trên một đoạn văn bản nhất định. Hoàn thành lớp \n",
    "'analysedText' với các phương thức sau -\n",
    "\n",
    "<ul>\n",
    "    <li> Hàm khởi tạo - Lấy đối số là 'text', đặt nó thành chữ thường và xóa tất cả các dấu câu. Giả sử chỉ sử dụng các dấu câu sau - dấu chấm (.), dấu chấm than (!), dấu phẩy (,) và dấu hỏi (?). Lưu trữ đối số trong \"fmtText\"    \n",
    "    <li> freqAll - trả về một dictionary của tất cả các từ duy nhất trong văn bản cùng với số lần xuất hiện của chúng.\n",
    "    <li> freqOf - trả về tần suất của từ được truyền trong đối số.\n",
    "</ul>\n",
    "Bạn đã biết khung code. Docstrings có thể được bỏ qua cho mục đích của bài tập. <br>\n",
    " <i> Gợi ý: Một số hàm hữu ích như <code>replace()</code>, <code>lower()</code>, <code>split()</code>, <code>count()</code> </i><br>\n"
   ]
  },
  {
   "cell_type": "code",
   "metadata": {
    "id": "TkJw6YMN1D3P"
   },
   "source": [
    "class analysedText(object):\n",
    "    \n",
    "    def __init__ (self, text):\n",
    "        # remove punctuation\n",
    "        formattedText = text.replace('.','').replace('!','').replace('?','').replace(',','')\n",
    "\n",
    "        # make text lowercase\n",
    "        formattedText = formattedText.lower()\n",
    "\n",
    "        self.fmtText = formattedText\n",
    "\n",
    "    def freqAll(self):\n",
    "\n",
    "        wordList = self.fmtText.split(' ')\n",
    "\n",
    "\n",
    "        freqMap = {}\n",
    "        for word in set(wordList):\n",
    "            freqMap[word] = wordList.count(word)\n",
    "\n",
    "        return freqMap\n",
    "\n",
    "    def freqOf(self,word):\n",
    "\n",
    "        freqDict = self.freqAll()\n",
    "\n",
    "        if word in freqDict:\n",
    "            return freqDict[word]\n",
    "        else:\n",
    "            return 0"
   ],
   "execution_count": 6,
   "outputs": []
  },
  {
   "cell_type": "markdown",
   "metadata": {
    "id": "tER84Xcs1D3P"
   },
   "source": [
    "Thực thi khối bên dưới để kiểm tra tiến trình của bạn."
   ]
  },
  {
   "cell_type": "code",
   "metadata": {
    "id": "CQYHMimL1D3P"
   },
   "source": [
    "import sys\n",
    "\n",
    "sampleMap = {'eirmod': 1,'sed': 1, 'amet': 2, 'diam': 5, 'consetetur': 1, 'labore': 1, 'tempor': 1, 'dolor': 1, 'magna': 2, 'et': 3, 'nonumy': 1, 'ipsum': 1, 'lorem': 2}\n",
    "\n",
    "def testMsg(passed):\n",
    "    if passed:\n",
    "       return 'Test Passed'\n",
    "    else :\n",
    "       return 'Test Failed'\n",
    "\n",
    "print(\"Constructor: \")\n",
    "try:\n",
    "    samplePassage = analysedText(\"Lorem ipsum dolor! diam amet, consetetur Lorem magna. sed diam nonumy eirmod tempor. diam et labore? et diam magna. et diam amet.\")\n",
    "    print(testMsg(samplePassage.fmtText == \"lorem ipsum dolor diam amet consetetur lorem magna sed diam nonumy eirmod tempor diam et labore et diam magna et diam amet\"))\n",
    "except:\n",
    "    print(\"Error detected. Recheck your function \" )\n",
    "print(\"freqAll: \")\n",
    "try:\n",
    "    wordMap = samplePassage.freqAll()\n",
    "    print(testMsg(wordMap==sampleMap))\n",
    "except:\n",
    "    print(\"Error detected. Recheck your function \" )\n",
    "print(\"freqOf: \")\n",
    "try:\n",
    "    passed = True\n",
    "    for word in sampleMap:\n",
    "        if samplePassage.freqOf(word) != sampleMap[word]:\n",
    "            passed = False\n",
    "            break\n",
    "    print(testMsg(passed))\n",
    "    \n",
    "except:\n",
    "    print(\"Error detected. Recheck your function  \" )\n",
    "    "
   ],
   "execution_count": 7,
   "outputs": [
    {
     "name": "stdout",
     "output_type": "stream",
     "text": [
      "Constructor: \n",
      "Test Passed\n",
      "freqAll: \n",
      "Test Passed\n",
      "freqOf: \n",
      "Test Passed\n"
     ]
    }
   ]
  },
  {
   "cell_type": "markdown",
   "metadata": {
    "id": "0I4p28Sd1D3Q"
   },
   "source": [
    "\n",
    "<details><summary>Click vào đây để xem lời giải</summary>\n",
    "\n",
    "```python\n",
    "class analysedText(object):\n",
    "    \n",
    "    def __init__ (self, text):\n",
    "        # remove punctuation\n",
    "        formattedText = text.replace('.','').replace('!','').replace('?','').replace(',','')\n",
    "        \n",
    "        # make text lowercase\n",
    "        formattedText = formattedText.lower()\n",
    "        \n",
    "        self.fmtText = formattedText\n",
    "        \n",
    "    def freqAll(self):        \n",
    "        # split text into words\n",
    "        wordList = self.fmtText.split(' ')\n",
    "        \n",
    "        # Create dictionary\n",
    "        freqMap = {}\n",
    "        for word in set(wordList): # use set to remove duplicates in list\n",
    "            freqMap[word] = wordList.count(word)\n",
    "        \n",
    "        return freqMap\n",
    "    \n",
    "    def freqOf(self,word):\n",
    "        # get frequency map\n",
    "        freqDict = self.freqAll()\n",
    "        \n",
    "        if word in freqDict:\n",
    "            return freqDict[word]\n",
    "        else:\n",
    "            return 0\n",
    "    \n",
    "```\n",
    "\n",
    "</details>\n",
    "         \n"
   ]
  },
  {
   "cell_type": "code",
   "execution_count": null,
   "outputs": [],
   "source": [],
   "metadata": {
    "collapsed": false
   }
  }
 ]
}

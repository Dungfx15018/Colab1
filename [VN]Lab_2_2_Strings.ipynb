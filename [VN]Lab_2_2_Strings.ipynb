{
 "nbformat": 4,
 "nbformat_minor": 0,
 "metadata": {
  "kernelspec": {
   "display_name": "Python 3",
   "language": "python",
   "name": "python3"
  },
  "language_info": {
   "codemirror_mode": {
    "name": "ipython",
    "version": 3
   },
   "file_extension": ".py",
   "mimetype": "text/x-python",
   "name": "python",
   "nbconvert_exporter": "python",
   "pygments_lexer": "ipython3",
   "version": "3.6.8"
  },
  "colab": {
   "provenance": []
  }
 },
 "cells": [
  {
   "cell_type": "markdown",
   "metadata": {
    "id": "uGGiSa1WIw-o"
   },
   "source": [
    "# Các thao tác với String\n",
    "\n",
    "Thời lượng ước tính: **15** phút\n",
    "\n",
    "## Mục tiêu\n",
    "\n",
    "Sau khi hoàn thành lab này, bạn sẽ có thể:\n",
    "\n",
    "*   Làm việc với String\n",
    "*   Thực hiện các thao tác với String\n",
    "*   Thao tác String sử dụng indexing và escape sequence"
   ]
  },
  {
   "cell_type": "markdown",
   "metadata": {
    "id": "Yn2X7jDFIw-q"
   },
   "source": [
    "<h2>Mục lục</h2>\n",
    "<div class=\"alert alert-block alert-info\" style=\"margin-top: 20px\">\n",
    "    <ul>\n",
    "        <li>\n",
    "            <a href=\"#strings\">String là gì?</a>\n",
    "        </li>\n",
    "        <li>\n",
    "            <a href=\"#index\">Indexing (Chỉ mục)</a>\n",
    "            <ul>\n",
    "                <li><a href=\"neg\">Chỉ mục âm</a></li>\n",
    "                <li><a href=\"slice\">Slicing</a></li>\n",
    "                <li><a href=\"stride\">Stride</a></li>\n",
    "                <li><a href=\"concat\">Nối String</a></li>\n",
    "            </ul>\n",
    "        </li>\n",
    "        <li>\n",
    "            <a href=\"#escape\">Escape Sequence</a>\n",
    "        </li>\n",
    "        <li>\n",
    "            <a href=\"#operations\">Thao tác với String</a>\n",
    "        </li>\n",
    "        <li>\n",
    "            <a href=\"#quiz\">Quiz về Strings</a>\n",
    "        </li>\n",
    "    </ul>\n",
    "    </div>\n",
    "\n",
    "<hr>"
   ]
  },
  {
   "cell_type": "markdown",
   "metadata": {
    "id": "X9LLnH0fIw-q"
   },
   "source": [
    "<h2 id=\"strings\">String là gì?</h2>"
   ]
  },
  {
   "cell_type": "markdown",
   "metadata": {
    "id": "9Od13zsFIw-r"
   },
   "source": [
    "Ví dụ sau cho thấy một string chứa trong cặp dấu nháy kép:"
   ]
  },
  {
   "cell_type": "code",
   "metadata": {
    "id": "4SHlZ_3cIw-r"
   },
   "source": [
    "# Sử dụng dấu nháy kép để xác định string\n",
    "\n",
    "\"Michael Jackson\""
   ],
   "execution_count": 1,
   "outputs": [
    {
     "data": {
      "text/plain": "'Michael Jackson'"
     },
     "execution_count": 1,
     "metadata": {},
     "output_type": "execute_result"
    }
   ]
  },
  {
   "cell_type": "markdown",
   "metadata": {
    "id": "VRJWHtBvIw-s"
   },
   "source": [
    "Chúng ta cũng có thể sử dụng dấu nháy đơn:"
   ]
  },
  {
   "cell_type": "code",
   "metadata": {
    "id": "DEwLYbihIw-s"
   },
   "source": [
    "# Sử dụng dấu nháy đơn để xác định string\n",
    "\n",
    "'Michael Jackson'"
   ],
   "execution_count": 2,
   "outputs": [
    {
     "data": {
      "text/plain": "'Michael Jackson'"
     },
     "execution_count": 2,
     "metadata": {},
     "output_type": "execute_result"
    }
   ]
  },
  {
   "cell_type": "markdown",
   "metadata": {
    "id": "vM5sL0l9Iw-s"
   },
   "source": [
    "String có thể là sự kết hợp của khoảng trắng và chữ số: "
   ]
  },
  {
   "cell_type": "code",
   "metadata": {
    "id": "P5unS99wIw-s"
   },
   "source": [
    "# Chữ số và khoảng trắng trong string\n",
    "\n",
    "'1 2 3 4 5 6 '"
   ],
   "execution_count": 3,
   "outputs": [
    {
     "data": {
      "text/plain": "'1 2 3 4 5 6 '"
     },
     "execution_count": 3,
     "metadata": {},
     "output_type": "execute_result"
    }
   ]
  },
  {
   "cell_type": "markdown",
   "metadata": {
    "id": "8AbVaxOhIw-t"
   },
   "source": [
    "String cũng có thể là sự kết hợp của các ký tự đặc biệt: "
   ]
  },
  {
   "cell_type": "code",
   "metadata": {
    "id": "0LbO6tgeIw-t"
   },
   "source": [
    "# Ký tự đặc biệt trong string\n",
    "\n",
    "'@#2_#]&*^%$'"
   ],
   "execution_count": 4,
   "outputs": [
    {
     "data": {
      "text/plain": "'@#2_#]&*^%$'"
     },
     "execution_count": 4,
     "metadata": {},
     "output_type": "execute_result"
    }
   ]
  },
  {
   "cell_type": "markdown",
   "metadata": {
    "id": "oxGsl71hIw-t"
   },
   "source": [
    "Chúng ta có thể in ra string sử dụng câu lệnh print:"
   ]
  },
  {
   "cell_type": "code",
   "metadata": {
    "id": "5OjWtNIPIw-t"
   },
   "source": [
    "# In ra string\n",
    "\n",
    "print(\"hello!\")"
   ],
   "execution_count": 5,
   "outputs": [
    {
     "name": "stdout",
     "output_type": "stream",
     "text": [
      "hello!\n"
     ]
    }
   ]
  },
  {
   "cell_type": "markdown",
   "metadata": {
    "id": "-t2kWkMjIw-u"
   },
   "source": [
    "Chúng ta có thể liên kết hoặc gán string cho một biến khác:\n"
   ]
  },
  {
   "cell_type": "code",
   "metadata": {
    "id": "p2hY2mgkIw-u"
   },
   "source": [
    "# Gán string cho một biến\n",
    "\n",
    "Name = \"Michael Jackson\"\n",
    "Name"
   ],
   "execution_count": 6,
   "outputs": [
    {
     "data": {
      "text/plain": "'Michael Jackson'"
     },
     "execution_count": 6,
     "metadata": {},
     "output_type": "execute_result"
    }
   ]
  },
  {
   "cell_type": "markdown",
   "metadata": {
    "id": "K1ne2nJJIw-u"
   },
   "source": [
    "<hr>"
   ]
  },
  {
   "cell_type": "markdown",
   "metadata": {
    "id": "9cKf6pPsIw-u"
   },
   "source": [
    "<h2 id=\"index\">Chỉ mục</h2>"
   ]
  },
  {
   "cell_type": "markdown",
   "metadata": {
    "id": "wn-RdOJvIw-v"
   },
   "source": [
    "Sẽ rất hữu ích nếu coi string là một dãy có thứ tự. Mỗi phần tử trong dãy có thể được truy cập bằng cách sử dụng một chỉ số được biểu thị bằng mảng số:  "
   ]
  },
  {
   "cell_type": "markdown",
   "metadata": {
    "id": "A1Xygi5OIw-v"
   },
   "source": [
    "<img src=\"https://s3-api.us-geo.objectstorage.softlayer.net/cf-courses-data/CognitiveClass/PY0101EN/Chapter%201/Images/StringsIndex.png\" width=\"600\" align=\"center\" />"
   ]
  },
  {
   "cell_type": "markdown",
   "metadata": {
    "id": "9Vu5myzXIw-v"
   },
   "source": [
    "Chỉ mục đầu tiên có thể được truy cập như sau:"
   ]
  },
  {
   "cell_type": "markdown",
   "metadata": {
    "id": "87FzQ3w8Iw-v"
   },
   "source": [
    "<hr/>\n",
    "<div class=\"alert alert-success alertsuccess\" style=\"margin-top: 20px\">\n",
    "[Tip]: Bởi vì chỉ mục bắt đầu từ 0, có nghĩa là chỉ mục đầu tiên nằm trên chỉ mục 0.\n",
    "</div>\n",
    "<hr/>"
   ]
  },
  {
   "cell_type": "code",
   "metadata": {
    "id": "AiC3IP9-Iw-w"
   },
   "source": [
    "# In ra phần tử đầu tiên trong string\n",
    "\n",
    "print(Name[0])"
   ],
   "execution_count": 7,
   "outputs": [
    {
     "name": "stdout",
     "output_type": "stream",
     "text": [
      "M\n"
     ]
    }
   ]
  },
  {
   "cell_type": "markdown",
   "metadata": {
    "id": "npSZD_6SIw-w"
   },
   "source": [
    "Chúng ta có thể truy cập chỉ mục 6:"
   ]
  },
  {
   "cell_type": "code",
   "metadata": {
    "id": "CwjqCofWIw-w"
   },
   "source": [
    "# In ra phần tử ở chỉ mục 6 trong string\n",
    "\n",
    "print(Name[6])"
   ],
   "execution_count": 8,
   "outputs": [
    {
     "name": "stdout",
     "output_type": "stream",
     "text": [
      "l\n"
     ]
    }
   ]
  },
  {
   "cell_type": "markdown",
   "metadata": {
    "id": "5NV5RJRoIw-w"
   },
   "source": [
    "Hơn nữa, chúng ta có thể truy cập chỉ mục thứ 13:"
   ]
  },
  {
   "cell_type": "code",
   "metadata": {
    "id": "Utjb2vKfIw-x"
   },
   "source": [
    "# In ra phần tử ở chỉ mục thư 13 trong string\n",
    "\n",
    "print(Name[13])"
   ],
   "execution_count": 9,
   "outputs": [
    {
     "name": "stdout",
     "output_type": "stream",
     "text": [
      "o\n"
     ]
    }
   ]
  },
  {
   "cell_type": "markdown",
   "metadata": {
    "id": "gAHwanv4Iw-x"
   },
   "source": [
    "<h3 id=\"neg\">Chỉ mục âm</h3>"
   ]
  },
  {
   "cell_type": "markdown",
   "metadata": {
    "id": "QiVK3RtlIw-x"
   },
   "source": [
    " Chúng ta có thể dùng chỉ mục âm với string:"
   ]
  },
  {
   "cell_type": "markdown",
   "metadata": {
    "id": "D06mKfJUIw-x"
   },
   "source": [
    "<img src=\"https://s3-api.us-geo.objectstorage.softlayer.net/cf-courses-data/CognitiveClass/PY0101EN/Chapter%201/Images/StringsNeg.png\" width=\"600\" align=\"center\" />"
   ]
  },
  {
   "cell_type": "markdown",
   "metadata": {
    "id": "T2ezEC7sIw-x"
   },
   "source": [
    "Chỉ mục âm có thể giúp chúng ta đếm phần tử từ cuối string."
   ]
  },
  {
   "cell_type": "markdown",
   "metadata": {
    "id": "bhA18GRtIw-y"
   },
   "source": [
    "Phần tử cuối cùng được cho bởi chỉ mục -1: "
   ]
  },
  {
   "cell_type": "code",
   "metadata": {
    "id": "WVuMSryCIw-y"
   },
   "source": [
    "# In ra phần tử cuối trong string\n",
    "\n",
    "print(Name[-1])"
   ],
   "execution_count": 10,
   "outputs": [
    {
     "name": "stdout",
     "output_type": "stream",
     "text": [
      "n\n"
     ]
    }
   ]
  },
  {
   "cell_type": "markdown",
   "metadata": {
    "id": "I0LHZvdnIw-y"
   },
   "source": [
    "Phần tử đầu tiên có thể nhận được bằng chỉ mục -15:"
   ]
  },
  {
   "cell_type": "code",
   "metadata": {
    "id": "hHSpAEJPIw-y"
   },
   "source": [
    "# In ra phần tử đầu tiên trong string\n",
    "\n",
    "print(Name[-15])"
   ],
   "execution_count": 11,
   "outputs": [
    {
     "name": "stdout",
     "output_type": "stream",
     "text": [
      "M\n"
     ]
    }
   ]
  },
  {
   "cell_type": "markdown",
   "metadata": {
    "id": "paAlmQZqIw-y"
   },
   "source": [
    "Chúng ta có thể tìm số ký tự trong một string bằng cách sử dụng <code>len</code>, viết tắt của length:"
   ]
  },
  {
   "cell_type": "code",
   "metadata": {
    "id": "Vzx9VNcbIw-z"
   },
   "source": [
    "# Tìm độ dài của string\n",
    "\n",
    "len(\"Michael Jackson\")"
   ],
   "execution_count": 12,
   "outputs": [
    {
     "data": {
      "text/plain": "15"
     },
     "execution_count": 12,
     "metadata": {},
     "output_type": "execute_result"
    }
   ]
  },
  {
   "cell_type": "markdown",
   "metadata": {
    "id": "khQnYozQIw-z"
   },
   "source": [
    "<h3 id=\"slice\">Slicing</h3>"
   ]
  },
  {
   "cell_type": "markdown",
   "metadata": {
    "id": "4OjlgibjIw-z"
   },
   "source": [
    "Chúng ta có thể lấy nhiều ký tự từ một string bằng cách sử dụng slicing (lấy khoảng giá trị), chúng ta có thể lấy phần tử 0 đến 4 và 8 đến 12:  "
   ]
  },
  {
   "cell_type": "markdown",
   "metadata": {
    "id": "PFIZKA1WIw-z"
   },
   "source": [
    "<img src=\"https://s3-api.us-geo.objectstorage.softlayer.net/cf-courses-data/CognitiveClass/PY0101EN/Chapter%201/Images/StringsSlice.png\" width=\"600\" align=\"center\" />"
   ]
  },
  {
   "cell_type": "markdown",
   "metadata": {
    "id": "r3TWrnj7Iw-z"
   },
   "source": [
    "<hr/>\n",
    "<div class=\"alert alert-success alertsuccess\" style=\"margin-top: 20px\">\n",
    "[Tip]: Khi lấy khoảng giá trị, chỉ mục đầu tiên(số đầu tiên) là vị trí chỉ mục bắt đầu lấy là giá và chỉ mục thứ hai (số thứ hai) là vị trí chỉ mục ngừng lấy giá trị.\n",
    "</div>\n",
    "<hr/>"
   ]
  },
  {
   "cell_type": "code",
   "metadata": {
    "id": "KJSXJ12IIw-0"
   },
   "source": [
    "# Lấy khoảng trên biến Name chỉ với chỉ mục 0 đến chỉ mục 3\n",
    "\n",
    "Name[0:4]"
   ],
   "execution_count": 13,
   "outputs": [
    {
     "data": {
      "text/plain": "'Mich'"
     },
     "execution_count": 13,
     "metadata": {},
     "output_type": "execute_result"
    }
   ]
  },
  {
   "cell_type": "code",
   "metadata": {
    "id": "6fD9vuG1Iw-0"
   },
   "source": [
    "# Lấy khoảng trên biến Name chỉ với chỉ mục 8 đến chỉ mục 11\n",
    "\n",
    "Name[8:12]"
   ],
   "execution_count": 14,
   "outputs": [
    {
     "data": {
      "text/plain": "'Jack'"
     },
     "execution_count": 14,
     "metadata": {},
     "output_type": "execute_result"
    }
   ]
  },
  {
   "cell_type": "markdown",
   "metadata": {
    "id": "S9A2Pc1wIw-0"
   },
   "source": [
    "<h3 id=\"stride\">Stride</h3>"
   ]
  },
  {
   "cell_type": "markdown",
   "metadata": {
    "id": "d_tYE51JIw-1"
   },
   "source": [
    "Chúng ta cũng có thể nhập giá trị stride như sau, với '2' cho biết rằng chúng ta đang chọn mọi biến thứ hai:"
   ]
  },
  {
   "cell_type": "markdown",
   "metadata": {
    "id": "46FHvY4vIw-1"
   },
   "source": [
    "<img src=\"https://s3-api.us-geo.objectstorage.softlayer.net/cf-courses-data/CognitiveClass/PY0101EN/Chapter%201/Images/StringsStride.png\" width=\"600\" align=\"center\" />"
   ]
  },
  {
   "cell_type": "code",
   "metadata": {
    "id": "8eay9_vHIw-1"
   },
   "source": [
    "# Lấy cách một phần tử. Các phần tử ở chỉ mục 1, 3, 5 …\n",
    "\n",
    "Name[::2]"
   ],
   "execution_count": 15,
   "outputs": [
    {
     "data": {
      "text/plain": "'McalJcsn'"
     },
     "execution_count": 15,
     "metadata": {},
     "output_type": "execute_result"
    }
   ]
  },
  {
   "cell_type": "markdown",
   "metadata": {
    "id": "tw12GxokIw-1"
   },
   "source": [
    "Chúng ta cũng có thể kết hợp slicing với stride. Trong trường hợp này, chúng ta chọn năm phần tử đầu tiên và sau đó sử dụng stride: "
   ]
  },
  {
   "cell_type": "code",
   "metadata": {
    "id": "2lB3icdbIw-1"
   },
   "source": [
    "# Lấy cách một phần tử trong phạm vi từ chỉ mục 0 tới chỉ mục 4\n",
    "\n",
    "Name[0:5:2]"
   ],
   "execution_count": 16,
   "outputs": [
    {
     "data": {
      "text/plain": "'Mca'"
     },
     "execution_count": 16,
     "metadata": {},
     "output_type": "execute_result"
    }
   ]
  },
  {
   "cell_type": "markdown",
   "metadata": {
    "id": "OD_cW3VUIw-2"
   },
   "source": [
    "<h3 id=\"concat\">Nối String</h3>"
   ]
  },
  {
   "cell_type": "markdown",
   "metadata": {
    "id": "mX8WG3T6Iw-2"
   },
   "source": [
    "Chúng ta có thể nối hoặc kết hợp các string bằng cách sử dụng các ký hiệu cộng và kết quả được một string mới là sự kết hợp của cả hai:\n"
   ]
  },
  {
   "cell_type": "code",
   "metadata": {
    "id": "DxCcpBUtIw-2"
   },
   "source": [
    "# Nối 2 string\n",
    "\n",
    "Statement = Name + \"is the best\"\n",
    "Statement"
   ],
   "execution_count": 17,
   "outputs": [
    {
     "data": {
      "text/plain": "'Michael Jacksonis the best'"
     },
     "execution_count": 17,
     "metadata": {},
     "output_type": "execute_result"
    }
   ]
  },
  {
   "cell_type": "markdown",
   "metadata": {
    "id": "Ui-R0Yz5Iw-2"
   },
   "source": [
    "Để sao chép các giá trị của một string, chúng ta chỉ cần nhân string với số lần chúng ta muốn sao chép nó. Trong trường hợp này là 3. Kết quả là một string mới, bao gồm 3 bản sao của string ban đầu:"
   ]
  },
  {
   "cell_type": "code",
   "metadata": {
    "id": "WYMq656gIw-3"
   },
   "source": [
    "# In string sau 3 lần\n",
    "\n",
    "3 * \"Michael Jackson\""
   ],
   "execution_count": 18,
   "outputs": [
    {
     "data": {
      "text/plain": "'Michael JacksonMichael JacksonMichael Jackson'"
     },
     "execution_count": 18,
     "metadata": {},
     "output_type": "execute_result"
    }
   ]
  },
  {
   "cell_type": "markdown",
   "metadata": {
    "id": "0TZK6PUDIw-3"
   },
   "source": [
    "Bạn có thể tạo một string mới bằng cách đặt nó thành biến ban đầu. Được nối với một string mới, kết quả là string mới thay đổi từ Michael Jackson thành \"Michael Jackson is the best\".\n"
   ]
  },
  {
   "cell_type": "code",
   "metadata": {
    "id": "48GlcpNKIw-3"
   },
   "source": [
    "# Nối string\n",
    "\n",
    "Name = \"Michael Jackson\"\n",
    "Name = Name + \" is the best\"\n",
    "Name"
   ],
   "execution_count": 19,
   "outputs": [
    {
     "data": {
      "text/plain": "'Michael Jackson is the best'"
     },
     "execution_count": 19,
     "metadata": {},
     "output_type": "execute_result"
    }
   ]
  },
  {
   "cell_type": "markdown",
   "metadata": {
    "id": "AY5D1ZUuIw-3"
   },
   "source": [
    "<hr>"
   ]
  },
  {
   "cell_type": "markdown",
   "metadata": {
    "id": "_7Y9c93GIw-4"
   },
   "source": [
    "<h2 id=\"escape\">Escape Sequence</h2>"
   ]
  },
  {
   "cell_type": "markdown",
   "metadata": {
    "id": "0TQHZ-qbIw-4"
   },
   "source": [
    "Dấu gạch chéo ngược biểu thị sự bắt đầu của escape sequence. Escape thể hiện rằng các string có thể khó nhập. Ví dụ, \\n đại diện cho một dòng mới. Đầu ra được đưa ra bởi một dòng mới sau khi bắt gặp \\n:"
   ]
  },
  {
   "cell_type": "code",
   "metadata": {
    "id": "pf_uGt7wIw-4"
   },
   "source": [
    "# Dòng mới escape sequence\n",
    "\n",
    "print(\" Michael Jackson \\n is the best\" )"
   ],
   "execution_count": 20,
   "outputs": [
    {
     "name": "stdout",
     "output_type": "stream",
     "text": [
      " Michael Jackson \n",
      " is the best\n"
     ]
    }
   ]
  },
  {
   "cell_type": "markdown",
   "metadata": {
    "id": "CkKvwn0AIw-4"
   },
   "source": [
    "Tương tự, \\t thể hiện một khoảng cách (tương tự tạo khoảng cách khi nhấn nút tab): "
   ]
  },
  {
   "cell_type": "code",
   "metadata": {
    "id": "oB1ekiRFIw-5"
   },
   "source": [
    "# Tab escape sequence\n",
    "\n",
    "print(\" Michael Jackson \\t is the best\" )"
   ],
   "execution_count": 21,
   "outputs": [
    {
     "name": "stdout",
     "output_type": "stream",
     "text": [
      " Michael Jackson \t is the best\n"
     ]
    }
   ]
  },
  {
   "cell_type": "markdown",
   "metadata": {
    "id": "AqGNcZsXIw-5"
   },
   "source": [
    "Nếu bạn muốn đặt dấu gạch chéo ngược trong string của mình, hãy sử dụng dấu gạch chéo ngược kép:"
   ]
  },
  {
   "cell_type": "code",
   "metadata": {
    "id": "SGPbWHuPIw-5"
   },
   "source": [
    "# Đưa |\\\\ vào string\n",
    "\n",
    "print(\" Michael Jackson \\\\ is the best\" )"
   ],
   "execution_count": 22,
   "outputs": [
    {
     "name": "stdout",
     "output_type": "stream",
     "text": [
      " Michael Jackson \\ is the best\n"
     ]
    }
   ]
  },
  {
   "cell_type": "markdown",
   "metadata": {
    "id": "WZUly_-XIw-5"
   },
   "source": [
    "Chúng ta cũng có thể đặt \"r\" trước string để hiển thị dấu gạch chéo ngược:"
   ]
  },
  {
   "cell_type": "code",
   "metadata": {
    "id": "u9sGu58oIw-5"
   },
   "source": [
    "# r cho python biết là string sẽ được hiển thị ở dạng raw\n",
    "print(r\" Michael Jackson \\ is the best\" )"
   ],
   "execution_count": 23,
   "outputs": [
    {
     "name": "stdout",
     "output_type": "stream",
     "text": [
      " Michael Jackson \\ is the best\n"
     ]
    }
   ]
  },
  {
   "cell_type": "markdown",
   "metadata": {
    "id": "P36EttTQIw-5"
   },
   "source": [
    "<hr>"
   ]
  },
  {
   "cell_type": "markdown",
   "metadata": {
    "id": "6F63b5w3Iw-6"
   },
   "source": [
    "<h2 id=\"operations\">Thao tác với String</h2>"
   ]
  },
  {
   "cell_type": "markdown",
   "metadata": {
    "id": "3RnqtPEcIw-6"
   },
   "source": [
    "Có nhiều phương thức thao tác string trong Python có thể sử dụng để thao tác dữ liệu. Chúng ta sẽ sử dụng một số thao tác string cơ bản trên dữ liệu."
   ]
  },
  {
   "cell_type": "markdown",
   "metadata": {
    "id": "BaWCH2j0Iw-6"
   },
   "source": [
    "Hãy thử phương thức <code>upper</code>; phương thức này chuyển đổi các ký tự chữ thường thành các ký tự viết hoa:"
   ]
  },
  {
   "cell_type": "code",
   "metadata": {
    "id": "ZGetfoNQIw-6"
   },
   "source": [
    "# Chuyển tất cả các ký tự viết thường trong string sang ký tự viết hoa\n",
    "\n",
    "A = \"Thriller is the sixth studio album\"\n",
    "print(\"before upper:\", A)\n",
    "B = A.upper()\n",
    "print(\"After upper:\", B)"
   ],
   "execution_count": 24,
   "outputs": [
    {
     "name": "stdout",
     "output_type": "stream",
     "text": [
      "before upper: Thriller is the sixth studio album\n",
      "After upper: THRILLER IS THE SIXTH STUDIO ALBUM\n"
     ]
    }
   ]
  },
  {
   "cell_type": "markdown",
   "metadata": {
    "id": "hJhTt4drIw-6"
   },
   "source": [
    "Phương thức <code> replace</code> thay thế một phân đoạn của string, tức là thay một sub-string (chuỗi con) bằng một string mới. Chúng ta nhập phần của string muốn thay đổi. Đối số thứ hai là những gì chúng ta muốn trao đổi phân đoạn và kết quả được một string mới với phân đoạn đã thay đổi:\n"
   ]
  },
  {
   "cell_type": "code",
   "metadata": {
    "id": "tfbodP6DIw-7"
   },
   "source": [
    "# Thay thế substring cũ với substring đích mới là phân đoạn được tìm thấy trong string\n",
    "\n",
    "A = \"Michael Jackson is the best\"\n",
    "B = A.replace('Michael', 'Janet')\n",
    "B"
   ],
   "execution_count": 25,
   "outputs": [
    {
     "data": {
      "text/plain": "'Janet Jackson is the best'"
     },
     "execution_count": 25,
     "metadata": {},
     "output_type": "execute_result"
    }
   ]
  },
  {
   "cell_type": "markdown",
   "metadata": {
    "id": "6e5ansgWIw-7"
   },
   "source": [
    "Phương thức <code> find</code> tìm một sub-string. Đối số là sub-string bạn muốn tìm và đầu ra là chỉ mục đầu tiên của dãy. Chúng ta có thể tìm thấy sub-string <code> jack</code> hoặc <code> el</code>."
   ]
  },
  {
   "cell_type": "markdown",
   "metadata": {
    "id": "90AycbCPIw-7"
   },
   "source": [
    "<img src=\"https://s3-api.us-geo.objectstorage.softlayer.net/cf-courses-data/CognitiveClass/PY0101EN/Chapter%201/Images/StringsFind.png\" width=\"600\" align=\"center\" />"
   ]
  },
  {
   "cell_type": "code",
   "metadata": {
    "id": "wVX-qvWuIw-7"
   },
   "source": [
    "# Tìm substring trong string. Output sẽ chỉ là chỉ mục của phần tử đầu tiên của substring trong string\n",
    "\n",
    "Name = \"Michael Jackson\"\n",
    "Name.find('el')"
   ],
   "execution_count": 26,
   "outputs": [
    {
     "data": {
      "text/plain": "5"
     },
     "execution_count": 26,
     "metadata": {},
     "output_type": "execute_result"
    }
   ]
  },
  {
   "cell_type": "code",
   "metadata": {
    "id": "fcXiifp7Iw-8"
   },
   "source": [
    "# Tìm substring trong string\n",
    "\n",
    "Name.find('Jack')"
   ],
   "execution_count": 27,
   "outputs": [
    {
     "data": {
      "text/plain": "8"
     },
     "execution_count": 27,
     "metadata": {},
     "output_type": "execute_result"
    }
   ]
  },
  {
   "cell_type": "markdown",
   "metadata": {
    "id": "acNTCRWfIw-8"
   },
   "source": [
    "Nếu sub-string không nằm trong string thì kết quả đầu ra là phủ nhận. Ví dụ: string 'Jasdfasdasdf' không phải là sub-string:"
   ]
  },
  {
   "cell_type": "code",
   "metadata": {
    "collapsed": true,
    "id": "oSCgbSc_Iw-8"
   },
   "source": [
    "# Nếu không tìm thấy substring trong string\n",
    "\n",
    "Name.find('Jasdfasdasdf')"
   ],
   "execution_count": 28,
   "outputs": [
    {
     "data": {
      "text/plain": "-1"
     },
     "execution_count": 28,
     "metadata": {},
     "output_type": "execute_result"
    }
   ]
  },
  {
   "cell_type": "markdown",
   "metadata": {
    "id": "XzmorhLpIw-8"
   },
   "source": [
    "<hr>"
   ]
  },
  {
   "cell_type": "markdown",
   "metadata": {
    "id": "U6_QvvNpIw-8"
   },
   "source": [
    "<h2 id=\"quiz\">Quiz về String</h2>"
   ]
  },
  {
   "cell_type": "markdown",
   "metadata": {
    "id": "b46a5K6JIw-9"
   },
   "source": [
    "Giá trị của biến <code>A</code> sau khi đoạn code sau được thực thi là bao nhiêu?"
   ]
  },
  {
   "cell_type": "code",
   "metadata": {
    "collapsed": true,
    "id": "PmeSA_ibIw-9"
   },
   "source": [
    "# Viết code của bạn xuống đây và nhấn Shift+Enter để thực hiện\n",
    "\n",
    "A = \"1\"\n",
    "A"
   ],
   "execution_count": 30,
   "outputs": [
    {
     "data": {
      "text/plain": "'1'"
     },
     "execution_count": 30,
     "metadata": {},
     "output_type": "execute_result"
    }
   ]
  },
  {
   "cell_type": "markdown",
   "metadata": {
    "id": "aI5u_zdQXOWp"
   },
   "source": [
    "<details><summary>Click vào đây để xem lời giải</summary>\n",
    "\n",
    "```python\n",
    "\"1\"\n",
    "\n",
    "```\n",
    "\n",
    "</details>\n"
   ]
  },
  {
   "cell_type": "markdown",
   "metadata": {
    "id": "Rpdfut1IIw-9"
   },
   "source": [
    "Giá trị của biến <code>B</code> sau khi đoạn code sau được thực thi là bao nhiêu?"
   ]
  },
  {
   "cell_type": "code",
   "metadata": {
    "collapsed": true,
    "id": "xBYdlk3IIw--"
   },
   "source": [
    "# Viết code của bạn xuống đây và nhấn Shift+Enter để thực hiện\n",
    "\n",
    "B = \"2\"\n",
    "B"
   ],
   "execution_count": 31,
   "outputs": [
    {
     "data": {
      "text/plain": "'2'"
     },
     "execution_count": 31,
     "metadata": {},
     "output_type": "execute_result"
    }
   ]
  },
  {
   "cell_type": "markdown",
   "metadata": {
    "id": "zCL956jYXOWp"
   },
   "source": [
    "<details><summary>Click vào đây để xem lời giải</summary>\n",
    "\n",
    "```python\n",
    "\"2\"\n",
    "\n",
    "```\n",
    "\n",
    "</details>\n"
   ]
  },
  {
   "cell_type": "markdown",
   "metadata": {
    "id": "P50XcZYiIw--"
   },
   "source": [
    "Giá trị của biến <code>C</code> sau khi đoạn code sau được thực thi là bao nhiêu?"
   ]
  },
  {
   "cell_type": "code",
   "metadata": {
    "id": "SxkNwck_Iw--"
   },
   "source": [
    "# Viết code của bạn xuống đây và nhấn Shift+Enter để thực hiện\n",
    "\n",
    "C = A + B\n",
    "C"
   ],
   "execution_count": 32,
   "outputs": [
    {
     "data": {
      "text/plain": "'12'"
     },
     "execution_count": 32,
     "metadata": {},
     "output_type": "execute_result"
    }
   ]
  },
  {
   "cell_type": "markdown",
   "metadata": {
    "id": "7j-tfIKRXOWq"
   },
   "source": [
    "<details><summary>Click vào đây để xem lời giải</summary>\n",
    "\n",
    "```python\n",
    "\"12\"\n",
    "\n",
    "```\n",
    "\n",
    "</details>\n"
   ]
  },
  {
   "cell_type": "markdown",
   "metadata": {
    "id": "so_o6N_vIw-_"
   },
   "source": [
    "<hr>"
   ]
  },
  {
   "cell_type": "markdown",
   "metadata": {
    "id": "Y69Cg1mmIw-_"
   },
   "source": [
    "Hãy xem xét biến <code>D</code> sử dụng slicing để in ra ba phần tử đầu tiên:"
   ]
  },
  {
   "cell_type": "code",
   "metadata": {
    "id": "NXyOH5DBIw-_"
   },
   "source": [
    "# Viết code của bạn xuống đây và nhấn Shift+Enter để thực hiện\n",
    "\n",
    "D = \"ABCDEFG\"\n",
    "print(D[0:3])"
   ],
   "execution_count": 33,
   "outputs": [
    {
     "name": "stdout",
     "output_type": "stream",
     "text": [
      "ABC\n"
     ]
    }
   ]
  },
  {
   "cell_type": "markdown",
   "metadata": {
    "id": "cscLTFC8XOWq"
   },
   "source": [
    "<details><summary>Click vào đây để xem lời giải</summary>\n",
    "\n",
    "```python\n",
    "print(d[:3]) \n",
    "\n",
    "# or \n",
    "\n",
    "print(d[0:3])\n",
    "\n",
    "```\n",
    "\n",
    "</details>\n"
   ]
  },
  {
   "cell_type": "markdown",
   "metadata": {
    "id": "fZSH__R4Iw_A"
   },
   "source": [
    "<hr>"
   ]
  },
  {
   "cell_type": "markdown",
   "metadata": {
    "id": "a6zrw9gMIw_A"
   },
   "source": [
    "Sử dụng giá trị stride là 2 để in ra mọi ký tự vị trí chẵn của string\n",
    " <code> E</code>:"
   ]
  },
  {
   "cell_type": "code",
   "metadata": {
    "collapsed": true,
    "id": "3-JnSe4IIw_A"
   },
   "source": [
    "# Viết code của bạn xuống đây và nhấn Shift+Enter để thực hiện\n",
    "\n",
    "E = 'clocrkr1e1c1t'\n",
    "print(E[::2])"
   ],
   "execution_count": 34,
   "outputs": [
    {
     "name": "stdout",
     "output_type": "stream",
     "text": [
      "correct\n"
     ]
    }
   ]
  },
  {
   "cell_type": "markdown",
   "metadata": {
    "id": "pIUu_fOEXOWr"
   },
   "source": [
    "<details><summary>Click vào đây để xem lời giải</summary>\n",
    "\n",
    "```python\n",
    "print(e[::2])\n",
    "\n",
    "```\n",
    "\n",
    "</details>\n"
   ]
  },
  {
   "cell_type": "markdown",
   "metadata": {
    "id": "MnKTo6fEIw_A"
   },
   "source": [
    "<hr>"
   ]
  },
  {
   "cell_type": "markdown",
   "metadata": {
    "id": "Fai4oIdAIw_B"
   },
   "source": [
    "In ra dấu gạch chéo ngược:"
   ]
  },
  {
   "cell_type": "code",
   "metadata": {
    "id": "Z2nxzNA9Iw_B"
   },
   "source": [
    "# Viết code của bạn xuống đây và nhấn Shift+Enter để thực hiện\n",
    "print(\"\\\\\")"
   ],
   "execution_count": 35,
   "outputs": [
    {
     "name": "stdout",
     "output_type": "stream",
     "text": [
      "\\\n"
     ]
    }
   ]
  },
  {
   "cell_type": "markdown",
   "metadata": {
    "id": "qnBQLeksXOWr"
   },
   "source": [
    "<details><summary>Click vào đây để xem lời giải</summary>\n",
    "\n",
    "```python\n",
    "print(\"\\\\\")\n",
    "\n",
    "or\n",
    "\n",
    "print(r\"\\ \")\n",
    "\n",
    "```\n",
    "\n",
    "</details>\n"
   ]
  },
  {
   "cell_type": "markdown",
   "metadata": {
    "id": "RDRwV1xpIw_B"
   },
   "source": [
    "<hr>"
   ]
  },
  {
   "cell_type": "markdown",
   "metadata": {
    "id": "OwYFJAnOIw_B"
   },
   "source": [
    "Chuyển giá trị của biến <code> f</code> thành chữ in hoa:"
   ]
  },
  {
   "cell_type": "code",
   "metadata": {
    "id": "zvKEodduIw_B"
   },
   "source": [
    "# Viết code của bạn xuống đây và nhấn Shift+Enter để thực hiện\n",
    "\n",
    "f = \"You are wrong\"\n",
    "print(f.upper())"
   ],
   "execution_count": 36,
   "outputs": [
    {
     "name": "stdout",
     "output_type": "stream",
     "text": [
      "YOU ARE WRONG\n"
     ]
    }
   ]
  },
  {
   "cell_type": "markdown",
   "metadata": {
    "id": "MHlui6_hXOWs"
   },
   "source": [
    "<details><summary>Click vào đây để xem lời giải</summary>\n",
    "\n",
    "```python\n",
    "f.upper()\n",
    "\n",
    "```\n",
    "\n",
    "</details>\n"
   ]
  },
  {
   "cell_type": "markdown",
   "metadata": {
    "id": "U8GHkYC1Iw_C"
   },
   "source": [
    "<hr>"
   ]
  },
  {
   "cell_type": "markdown",
   "metadata": {
    "id": "m_7cn2CzIw_C"
   },
   "source": [
    "Xem xét biến <code> g</code> và tìm chỉ mục đầu tiên của sub-string <code> snow</code>:"
   ]
  },
  {
   "cell_type": "code",
   "metadata": {
    "id": "QLWwZR32Iw_C"
   },
   "source": [
    "# Viết code của bạn xuống đây và nhấn Shift+Enter để thực hiện\n",
    "\n",
    "g = \"Mary had a little lamb Little lamb, little lamb Mary had a little lamb \\\n",
    "Its fleece was white as snow And everywhere that Mary went Mary went, Mary went \\\n",
    "Everywhere that Mary went The lamb was sure to go\" \\\n",
    "    \"\"\n",
    "print(g.find('snow'))"
   ],
   "execution_count": 38,
   "outputs": [
    {
     "name": "stdout",
     "output_type": "stream",
     "text": [
      "95\n"
     ]
    }
   ]
  },
  {
   "cell_type": "markdown",
   "metadata": {
    "id": "k_3ks3UNXOWs"
   },
   "source": [
    "<details><summary>Click vào đây để xem lời giải</summary>\n",
    "\n",
    "```python\n",
    "g.find(\"snow\")\n",
    "\n",
    "```\n",
    "\n",
    "</details>\n"
   ]
  },
  {
   "cell_type": "markdown",
   "metadata": {
    "id": "qiPxnNyNIw_D"
   },
   "source": [
    "Trong biến <code> g</code>, thay thế sub-string <code> Mary</code> bằng <code> Bob</code>:"
   ]
  },
  {
   "cell_type": "code",
   "metadata": {
    "id": "Hju97S9IIw_D"
   },
   "source": [
    "# Viết code của bạn xuống đây và nhấn Shift+Enter để thực hiện\n",
    "print(g.replace(\"Mary\",\"Bob\"))"
   ],
   "execution_count": 39,
   "outputs": [
    {
     "name": "stdout",
     "output_type": "stream",
     "text": [
      "Bob had a little lamb Little lamb, little lamb Bob had a little lamb Its fleece was white as snow And everywhere that Bob went Bob went, Bob went Everywhere that Bob went The lamb was sure to go\n"
     ]
    }
   ]
  },
  {
   "cell_type": "markdown",
   "metadata": {
    "id": "EXV4K2GqXOWt"
   },
   "source": [
    "<details><summary>Click vào đây để xem lời giải</summary>\n",
    "\n",
    "```python\n",
    "g.replace(\"Mary\", \"Bob\")\n",
    "\n",
    "```\n",
    "\n",
    "</details>\n"
   ]
  }
 ]
}

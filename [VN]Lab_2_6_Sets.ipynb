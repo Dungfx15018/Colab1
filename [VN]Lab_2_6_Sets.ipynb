{
 "nbformat": 4,
 "nbformat_minor": 0,
 "metadata": {
  "kernelspec": {
   "display_name": "Python 3",
   "language": "python",
   "name": "python3"
  },
  "language_info": {
   "codemirror_mode": {
    "name": "ipython",
    "version": 3
   },
   "file_extension": ".py",
   "mimetype": "text/x-python",
   "name": "python",
   "nbconvert_exporter": "python",
   "pygments_lexer": "ipython3",
   "version": "3.7.6"
  },
  "colab": {
   "provenance": [],
   "toc_visible": true
  }
 },
 "cells": [
  {
   "cell_type": "markdown",
   "metadata": {
    "id": "QrTu9iDyxG07"
   },
   "source": [
    "# Set trong Python\n",
    "\n",
    "Thời lượng ước tính: **20** phút\n",
    "\n",
    "## Mục tiêu\n",
    "\n",
    "Sau khi hoàn thành lab này, bạn sẽ có thể:\n",
    "\n",
    "-   Làm việc với set trong Python, gồm các thao tác và phép toán logic.\n"
   ]
  },
  {
   "cell_type": "markdown",
   "metadata": {
    "id": "_MRNAWzVxG1E"
   },
   "source": [
    "##<h2>Mục lục</h2>\n",
    "<div class=\"alert alert-block alert-info\" style=\"margin-top: 20px\">\n",
    "    <ul>\n",
    "        <li>\n",
    "            <a href=\"#set\">Set</a>\n",
    "            <ul>\n",
    "                <li><a href=\"content\">Nội dung Set</a></li>\n",
    "                <li><a href=\"op\">Các thao tác với Set</a></li>\n",
    "                <li><a href=\"logic\">Phép toán logic với Set</a></li>\n",
    "            </ul>\n",
    "        </li>\n",
    "        <li>\n",
    "            <a href=\"#quiz\">Quiz về Set</a>\n",
    "        </li>\n",
    "    </ul>\n",
    " \n",
    "</div>\n",
    "\n",
    "<hr>\n"
   ]
  },
  {
   "cell_type": "markdown",
   "metadata": {
    "id": "jQ74xK1CxG1F"
   },
   "source": [
    "##<h2 id=\"set\">Set</h2>\n"
   ]
  },
  {
   "cell_type": "markdown",
   "metadata": {
    "id": "8T26l0m9xG1F"
   },
   "source": [
    "##<h3 id=\"content\">Nội dung Set</h3>\n"
   ]
  },
  {
   "cell_type": "markdown",
   "metadata": {
    "id": "4vX4fbgxxG1G"
   },
   "source": [
    "Set là một tập hợp các đối tượng duy nhất trong Python. Bạn có thể biểu thị set bằng dấu ngoặc nhọn <b>{}</b>. Python sẽ tự động loại bỏ các mục trùng lặp:\n"
   ]
  },
  {
   "cell_type": "code",
   "metadata": {
    "id": "2QDQlVYlxG1G"
   },
   "source": [
    "# Tạo set\n",
    "\n",
    "set1 = {\"pop\", \"rock\", \"soul\", \"hard rock\", \"rock\", \"R&B\", \"rock\", \"disco\"}\n",
    "set1"
   ],
   "execution_count": 1,
   "outputs": [
    {
     "data": {
      "text/plain": "{'R&B', 'disco', 'hard rock', 'pop', 'rock', 'soul'}"
     },
     "execution_count": 1,
     "metadata": {},
     "output_type": "execute_result"
    }
   ]
  },
  {
   "cell_type": "markdown",
   "metadata": {
    "id": "fq_KWWPcxG1H"
   },
   "source": [
    "Quá trình lập bản đồ được minh họa trong hình:\n"
   ]
  },
  {
   "cell_type": "markdown",
   "metadata": {
    "id": "SMFD_0BFxG1I"
   },
   "source": [
    "<img src=\"https://cf-courses-data.s3.us.cloud-object-storage.appdomain.cloud/IBMDeveloperSkillsNetwork-PY0101EN-SkillsNetwork/labs/Module%202/images/SetsUnique.png\" width=\"1100\" />\n"
   ]
  },
  {
   "cell_type": "markdown",
   "metadata": {
    "id": "dOuScejrxG1I"
   },
   "source": [
    "Bạn cũng có thể tạo một set từ một list như sau:\n"
   ]
  },
  {
   "cell_type": "code",
   "metadata": {
    "scrolled": true,
    "id": "Ikh32M5MxG1J"
   },
   "source": [
    "# Chuyển đổi list thành set\n",
    "\n",
    "album_list = [ \"Michael Jackson\", \"Thriller\", 1982, \"00:42:19\", \\\n",
    "              \"Pop, Rock, R&B\", 46.0, 65, \"30-Nov-82\", None, 10.0]\n",
    "album_set = set(album_list)             \n",
    "album_set"
   ],
   "execution_count": 2,
   "outputs": [
    {
     "data": {
      "text/plain": "{'00:42:19',\n 10.0,\n 1982,\n '30-Nov-82',\n 46.0,\n 65,\n 'Michael Jackson',\n None,\n 'Pop, Rock, R&B',\n 'Thriller'}"
     },
     "execution_count": 2,
     "metadata": {},
     "output_type": "execute_result"
    }
   ]
  },
  {
   "cell_type": "markdown",
   "metadata": {
    "id": "1u102tySxG1J"
   },
   "source": [
    "Bây giờ chúng ta hãy tạo một set các thể loại:\n"
   ]
  },
  {
   "cell_type": "code",
   "metadata": {
    "id": "xuhGqteLxG1J"
   },
   "source": [
    "# Chuyển đổi list thành set\n",
    "\n",
    "music_genres = set([\"pop\", \"pop\", \"rock\", \"folk rock\", \"hard rock\", \"soul\", \\\n",
    "                    \"progressive rock\", \"soft rock\", \"R&B\", \"disco\"])\n",
    "music_genres"
   ],
   "execution_count": 4,
   "outputs": [
    {
     "data": {
      "text/plain": "{'R&B',\n 'disco',\n 'folk rock',\n 'hard rock',\n 'pop',\n 'progressive rock',\n 'rock',\n 'soft rock',\n 'soul'}"
     },
     "execution_count": 4,
     "metadata": {},
     "output_type": "execute_result"
    }
   ]
  },
  {
   "cell_type": "markdown",
   "metadata": {
    "id": "Um8dzhwzxG1K"
   },
   "source": [
    "##<h3 id=\"op\">Các thao tác với Set</h3> \n"
   ]
  },
  {
   "cell_type": "markdown",
   "metadata": {
    "id": "kRtgtRbaxG1K"
   },
   "source": [
    "Hãy xem xét các thao tác với set có thể sử dụng để thay đổi set. Hãy xem xét set <b> A</b>:\n"
   ]
  },
  {
   "cell_type": "code",
   "metadata": {
    "id": "m-9_inIbxG1K"
   },
   "source": [
    "# Set mẫu\n",
    "\n",
    "A = set([\"Thriller\", \"Back in Black\", \"AC/DC\"])\n",
    "A"
   ],
   "execution_count": 5,
   "outputs": [
    {
     "data": {
      "text/plain": "{'AC/DC', 'Back in Black', 'Thriller'}"
     },
     "execution_count": 5,
     "metadata": {},
     "output_type": "execute_result"
    }
   ]
  },
  {
   "cell_type": "markdown",
   "metadata": {
    "id": "bti8kHBcxG1K"
   },
   "source": [
    "Chúng ta có thể thêm một phần tử vào set bằng phương thức <code> add()</code>:"
   ]
  },
  {
   "cell_type": "code",
   "metadata": {
    "id": "pLnBkPMHxG1L"
   },
   "source": [
    "# Thêm phần tử vào set\n",
    "\n",
    "A.add(\"NSYNC\")\n",
    "A"
   ],
   "execution_count": 6,
   "outputs": [
    {
     "data": {
      "text/plain": "{'AC/DC', 'Back in Black', 'NSYNC', 'Thriller'}"
     },
     "execution_count": 6,
     "metadata": {},
     "output_type": "execute_result"
    }
   ]
  },
  {
   "cell_type": "markdown",
   "metadata": {
    "id": "PTL0VlPoxG1L"
   },
   "source": [
    "Nếu chúng ta cùng thêm một phần tử hai lần, sẽ không có gì xảy ra vì không thể có sự trùng lặp trong một set:"
   ]
  },
  {
   "cell_type": "code",
   "metadata": {
    "id": "zRlrM9sbxG1L"
   },
   "source": [
    "# Thêm phần tử bản sao vào set\n",
    "\n",
    "A.add(\"NSYNC\")\n",
    "A"
   ],
   "execution_count": 7,
   "outputs": [
    {
     "data": {
      "text/plain": "{'AC/DC', 'Back in Black', 'NSYNC', 'Thriller'}"
     },
     "execution_count": 7,
     "metadata": {},
     "output_type": "execute_result"
    }
   ]
  },
  {
   "cell_type": "markdown",
   "metadata": {
    "id": "0KgYmHD3xG1L"
   },
   "source": [
    "Chúng ta có thể xóa một mục khỏi set bằng phương thức <code> remove</code>:\n"
   ]
  },
  {
   "cell_type": "code",
   "metadata": {
    "id": "NVlIu4EXxG1M"
   },
   "source": [
    "# Xóa phần tử khỏi set\n",
    "\n",
    "A.remove(\"NSYNC\")\n",
    "A"
   ],
   "execution_count": 8,
   "outputs": [
    {
     "data": {
      "text/plain": "{'AC/DC', 'Back in Black', 'Thriller'}"
     },
     "execution_count": 8,
     "metadata": {},
     "output_type": "execute_result"
    }
   ]
  },
  {
   "cell_type": "markdown",
   "metadata": {
    "id": "fHSfl8rtxG1M"
   },
   "source": [
    "Chúng ta có thể xác minh xem một phần tử có trong set hay không bằng cách sử dụng lệnh <code> in</code>:"
   ]
  },
  {
   "cell_type": "code",
   "metadata": {
    "id": "g8vPzJ_zxG1M"
   },
   "source": [
    "# Xác minh xem phần tử có trong set không\n",
    "\n",
    "\"AC/DC\" in A"
   ],
   "execution_count": 9,
   "outputs": [
    {
     "data": {
      "text/plain": "True"
     },
     "execution_count": 9,
     "metadata": {},
     "output_type": "execute_result"
    }
   ]
  },
  {
   "cell_type": "markdown",
   "metadata": {
    "id": "5FHhRlSRxG1N"
   },
   "source": [
    "##<h3 id=\"logic\">Phép toán logic với Set</h3>\n"
   ]
  },
  {
   "cell_type": "markdown",
   "metadata": {
    "id": "Igd4G_3ixG1N"
   },
   "source": [
    "Với các set, bạn có thể kiểm tra sự khác biệt giữa chúng, cũng như sự khác biệt đối xứng, phần giao và phần hợp:\n"
   ]
  },
  {
   "cell_type": "markdown",
   "metadata": {
    "id": "9iIiY8OSxG1O"
   },
   "source": [
    "Xem xét 2 set sau:\n"
   ]
  },
  {
   "cell_type": "code",
   "metadata": {
    "id": "ob5bucLrxG1O"
   },
   "source": [
    "# Các set mẫu\n",
    "\n",
    "album_set1 = set([\"Thriller\", 'AC/DC', 'Back in Black'])\n",
    "album_set2 = set([ \"AC/DC\", \"Back in Black\", \"The Dark Side of the Moon\"])"
   ],
   "execution_count": 10,
   "outputs": []
  },
  {
   "cell_type": "markdown",
   "metadata": {
    "id": "xH0tNygdxG1O"
   },
   "source": [
    "<img src=\"https://cf-courses-data.s3.us.cloud-object-storage.appdomain.cloud/IBMDeveloperSkillsNetwork-PY0101EN-SkillsNetwork/labs/Module%202/images/SetsSamples.png\" width=\"650\" />\n"
   ]
  },
  {
   "cell_type": "code",
   "metadata": {
    "scrolled": true,
    "id": "YB27IrnUxG1P"
   },
   "source": [
    "# In 2 set\n",
    "\n",
    "album_set1, album_set2"
   ],
   "execution_count": 11,
   "outputs": [
    {
     "data": {
      "text/plain": "({'AC/DC', 'Back in Black', 'Thriller'},\n {'AC/DC', 'Back in Black', 'The Dark Side of the Moon'})"
     },
     "execution_count": 11,
     "metadata": {},
     "output_type": "execute_result"
    }
   ]
  },
  {
   "cell_type": "markdown",
   "metadata": {
    "id": "IA1hFy63xG1P"
   },
   "source": [
    "Vì cả hai set đều chứa <b> AC/DC</b> và <b> Back in Black </b> nên chúng ta thể hiện các phần tử chung này bằng giao của hai vòng tròn."
   ]
  },
  {
   "cell_type": "markdown",
   "metadata": {
    "id": "PWfzmjH4xG1Q"
   },
   "source": [
    "<img src = \"https://cf-courses-data.s3.us.cloud-object-storage.appdomain.cloud/IBMDeveloperSkillsNetwork-PY0101EN-SkillsNetwork/labs/Module%202/images/SetsLogic.png\" width = \"650\" />\n"
   ]
  },
  {
   "cell_type": "markdown",
   "metadata": {
    "id": "MbWaWMSRxG1Q"
   },
   "source": [
    "Bạn có thể tìm giao của hai set như sau bằng cách sử dụng <code> &</code>:"
   ]
  },
  {
   "cell_type": "code",
   "metadata": {
    "id": "T16Nk6XIxG1Q"
   },
   "source": [
    "# Tìm giao điểm\n",
    "\n",
    "intersection = album_set1 & album_set2\n",
    "intersection"
   ],
   "execution_count": 12,
   "outputs": [
    {
     "data": {
      "text/plain": "{'AC/DC', 'Back in Black'}"
     },
     "execution_count": 12,
     "metadata": {},
     "output_type": "execute_result"
    }
   ]
  },
  {
   "cell_type": "markdown",
   "metadata": {
    "id": "pAY0gADAxG1R"
   },
   "source": [
    "Bạn có thể tìm thấy tất cả các phần tử chỉ có trong <code> album_set1</code> bằng phương thức <code> difference</code>:"
   ]
  },
  {
   "cell_type": "code",
   "metadata": {
    "id": "ajaucsu1xG1R"
   },
   "source": [
    "# Tìm khác biệt trong set1 mà không có trong set2\n",
    "\n",
    "album_set1.difference(album_set2)  "
   ],
   "execution_count": 13,
   "outputs": [
    {
     "data": {
      "text/plain": "{'Thriller'}"
     },
     "execution_count": 13,
     "metadata": {},
     "output_type": "execute_result"
    }
   ]
  },
  {
   "cell_type": "markdown",
   "metadata": {
    "id": "tGlhqvWfxG1R"
   },
   "source": [
    "Bạn chỉ cần xem xét các phần tử trong <code> album_set1</code>; không bao gồm tất cả các phần tử trong <code> album_set2</code> và phần giao nhau."
   ]
  },
  {
   "cell_type": "markdown",
   "metadata": {
    "id": "BZpoThnzxG1S"
   },
   "source": [
    "<img src=\"https://cf-courses-data.s3.us.cloud-object-storage.appdomain.cloud/IBMDeveloperSkillsNetwork-PY0101EN-SkillsNetwork/labs/Module%202/images/SetsLeft.png\" width=\"650\" />\n"
   ]
  },
  {
   "cell_type": "markdown",
   "metadata": {
    "id": "Fd9GQSmNxG1S"
   },
   "source": [
    "Các phần tử trong <code> album_set2</code>, không phải trong <code> album_set1 </code>, được cung cấp bởi:"
   ]
  },
  {
   "cell_type": "code",
   "metadata": {
    "id": "1d4RACZSxG1T"
   },
   "source": [
    "album_set2.difference(album_set1)  "
   ],
   "execution_count": 14,
   "outputs": [
    {
     "data": {
      "text/plain": "{'The Dark Side of the Moon'}"
     },
     "execution_count": 14,
     "metadata": {},
     "output_type": "execute_result"
    }
   ]
  },
  {
   "cell_type": "markdown",
   "metadata": {
    "id": "nXUierxdxG1T"
   },
   "source": [
    "<img src = \"https://cf-courses-data.s3.us.cloud-object-storage.appdomain.cloud/IBMDeveloperSkillsNetwork-PY0101EN-SkillsNetwork/labs/Module%202/images/SetsRight.png\" width=\"650\" />\n"
   ]
  },
  {
   "cell_type": "markdown",
   "metadata": {
    "id": "ve9o5PugxG1U"
   },
   "source": [
    "Bạn cũng có thể tìm giao của <code> album_list1</code> và <code> album_list2</code> sử dụng phương thức <code>intersection</code>:"
   ]
  },
  {
   "cell_type": "code",
   "metadata": {
    "id": "UWsZVnylxG1U"
   },
   "source": [
    "# Sử dụng phương thức intersection để tim giao của album_list1 và album_list2\n",
    "\n",
    "album_set1.intersection(album_set2)   "
   ],
   "execution_count": 15,
   "outputs": [
    {
     "data": {
      "text/plain": "{'AC/DC', 'Back in Black'}"
     },
     "execution_count": 15,
     "metadata": {},
     "output_type": "execute_result"
    }
   ]
  },
  {
   "cell_type": "markdown",
   "metadata": {
    "id": "e3JjYB4wxG1V"
   },
   "source": [
    "Điều này tương đương với giao của hai vòng tròn:"
   ]
  },
  {
   "cell_type": "markdown",
   "metadata": {
    "id": "YyKHoZ0yxG1V"
   },
   "source": [
    "<img src=\"https://cf-courses-data.s3.us.cloud-object-storage.appdomain.cloud/IBMDeveloperSkillsNetwork-PY0101EN-SkillsNetwork/labs/Module%202/images/SetsIntersect.png\" width=\"650\" />\n"
   ]
  },
  {
   "cell_type": "markdown",
   "metadata": {
    "id": "uqHl1oMuxG1V"
   },
   "source": [
    "Hợp tương ứng với tất cả các phần tử ở cả hai tập hợp được biểu thị bằng cách tô màu cả hai vòng tròn:"
   ]
  },
  {
   "cell_type": "markdown",
   "metadata": {
    "id": "Kb31Xwv2xG1W"
   },
   "source": [
    "<img src = \"https://cf-courses-data.s3.us.cloud-object-storage.appdomain.cloud/IBMDeveloperSkillsNetwork-PY0101EN-SkillsNetwork/labs/Module%202/images/SetsUnion.png\" width=\"650\" />\n"
   ]
  },
  {
   "cell_type": "markdown",
   "metadata": {
    "id": "wtbfR5iZxG1W"
   },
   "source": [
    "Hợp được cho bởi:"
   ]
  },
  {
   "cell_type": "code",
   "metadata": {
    "collapsed": true,
    "id": "L62H5pJoxG1W"
   },
   "source": [
    "# Tìm hợp của 2 set\n",
    "\n",
    "album_set1.union(album_set2)"
   ],
   "execution_count": 16,
   "outputs": [
    {
     "data": {
      "text/plain": "{'AC/DC', 'Back in Black', 'The Dark Side of the Moon', 'Thriller'}"
     },
     "execution_count": 16,
     "metadata": {},
     "output_type": "execute_result"
    }
   ]
  },
  {
   "cell_type": "markdown",
   "metadata": {
    "id": "cAGNzwcdxG1W"
   },
   "source": [
    "Và bạn có thể kiểm tra xem một set (tập hợp) tương ứng là superset (tập cha) hay subset (tập con) của set khác như sau:"
   ]
  },
  {
   "cell_type": "code",
   "metadata": {
    "id": "95gaPbyKxG1X"
   },
   "source": [
    "# Kiểm tra xem có phải là superset không\n",
    "\n",
    "set(album_set1).issuperset(album_set2)   "
   ],
   "execution_count": 17,
   "outputs": [
    {
     "data": {
      "text/plain": "False"
     },
     "execution_count": 17,
     "metadata": {},
     "output_type": "execute_result"
    }
   ]
  },
  {
   "cell_type": "code",
   "metadata": {
    "id": "T7v017_1xG1X"
   },
   "source": [
    "# Kiểm tra xem có phải là subset không\n",
    "\n",
    "set(album_set2).issubset(album_set1)     "
   ],
   "execution_count": 18,
   "outputs": [
    {
     "data": {
      "text/plain": "False"
     },
     "execution_count": 18,
     "metadata": {},
     "output_type": "execute_result"
    }
   ]
  },
  {
   "cell_type": "markdown",
   "metadata": {
    "id": "XVFUCwYcxG1X"
   },
   "source": [
    "Dưới đây là một ví dụ trong đó <code> issubset()</code> và <code> issuperset()</code> trả về true:"
   ]
  },
  {
   "cell_type": "code",
   "metadata": {
    "id": "vGTsB_zvxG1Y"
   },
   "source": [
    "# Kiểm tra xem có phải là subset không\n",
    "\n",
    "set({\"Back in Black\", \"AC/DC\"}).issubset(album_set1) "
   ],
   "execution_count": 19,
   "outputs": [
    {
     "data": {
      "text/plain": "True"
     },
     "execution_count": 19,
     "metadata": {},
     "output_type": "execute_result"
    }
   ]
  },
  {
   "cell_type": "code",
   "metadata": {
    "id": "0QC1c-NXxG1Y"
   },
   "source": [
    "# Kiểm tra xem có phải là superset không\n",
    "\n",
    "album_set1.issuperset({\"Back in Black\", \"AC/DC\"})   "
   ],
   "execution_count": 20,
   "outputs": [
    {
     "data": {
      "text/plain": "True"
     },
     "execution_count": 20,
     "metadata": {},
     "output_type": "execute_result"
    }
   ]
  },
  {
   "cell_type": "markdown",
   "metadata": {
    "id": "7rvdRiSSxG1Y"
   },
   "source": [
    "<hr>\n"
   ]
  },
  {
   "cell_type": "markdown",
   "metadata": {
    "id": "zDnK0ibrxG1Y"
   },
   "source": [
    "##<h2 id=\"quiz\">Quiz về Set</h2>\n"
   ]
  },
  {
   "cell_type": "markdown",
   "metadata": {
    "id": "iIXzQ3GvxG1Z"
   },
   "source": [
    "Chuyển đổi list <code> ['rap','house','electronic music', 'rap']</code> thành một set:"
   ]
  },
  {
   "cell_type": "code",
   "metadata": {
    "id": "DyVumhOQxG1Z"
   },
   "source": [
    "# Viết code của bạn xuống đây và nhấn Shift+Enter để thực hiện\n",
    "set(['rap','house','electronic music','rap'])"
   ],
   "execution_count": 21,
   "outputs": [
    {
     "data": {
      "text/plain": "{'electronic music', 'house', 'rap'}"
     },
     "execution_count": 21,
     "metadata": {},
     "output_type": "execute_result"
    }
   ]
  },
  {
   "cell_type": "markdown",
   "metadata": {
    "id": "Fa5ublGfxG1Z"
   },
   "source": [
    "<details><summary>Click vào đây để xem lời giải</summary>\n",
    "\n",
    "```python\n",
    "set(['rap','house','electronic music','rap'])\n",
    "\n",
    "```\n",
    "\n",
    "</details>\n"
   ]
  },
  {
   "cell_type": "markdown",
   "metadata": {
    "id": "Cx__ezmLxG1Z"
   },
   "source": [
    "<hr>\n"
   ]
  },
  {
   "cell_type": "markdown",
   "metadata": {
    "id": "ctL7kYVixG1Z"
   },
   "source": [
    "Cho list <code>A = [1, 2, 2, 1]</code> và set <code>B = set([1, 2, 2, 1])</code>, thực hiện <code>sum(A) = sum(B)</code> \n"
   ]
  },
  {
   "cell_type": "code",
   "metadata": {
    "id": "3i20DY1mxG1Z"
   },
   "source": [
    "# Viết code của bạn xuống đây và nhấn Shift+Enter để thực hiện\n",
    "A = [1,2,2,1]\n",
    "B = set([1,2,2,1])\n",
    "\n",
    "print(\"the sum of A: \",sum(A))\n",
    "print(\"The sum of B: \",sum(B))\n",
    "print('check if the sum of A is equal to the sum of B: ',sum(A)==sum(B))"
   ],
   "execution_count": 24,
   "outputs": [
    {
     "name": "stdout",
     "output_type": "stream",
     "text": [
      "the sum of A:  6\n",
      "The sum of B:  3\n",
      "check if the sum of A is equal to the sum of B:  False\n"
     ]
    }
   ]
  },
  {
   "cell_type": "markdown",
   "metadata": {
    "id": "zWsMJghJxG1a"
   },
   "source": [
    "<details><summary>Click vào đây để xem lời giải</summary>\n",
    "\n",
    "```python\n",
    "A = [1, 2, 2, 1]  \n",
    "B = set([1, 2, 2, 1])\n",
    "print(\"the sum of A is:\", sum(A))\n",
    "print(\"the sum of B is:\", sum(B))\n",
    "print('Check if the sum of A is equal to the sum of B:', sum(A) == sum(B))\n",
    "\n",
    "```\n",
    "\n",
    "</details>\n"
   ]
  },
  {
   "cell_type": "markdown",
   "metadata": {
    "id": "YIZHMrpAxG1a"
   },
   "source": [
    "<hr>\n"
   ]
  },
  {
   "cell_type": "markdown",
   "metadata": {
    "id": "Gyq_eAqTxG1a"
   },
   "source": [
    "Tạo set mới <code>album_set3</code> là hợp của <code>album_set1</code> và <code>album_set2</code>:\n"
   ]
  },
  {
   "cell_type": "code",
   "metadata": {
    "id": "OUwPaY1bxG1a"
   },
   "source": [
    "# Viết code của bạn xuống đây và nhấn Shift+Enter để thực hiện\n",
    "album_set3 = album_set1.union(album_set2)\n",
    "album_set1 = set([\"Thriller\", 'AC/DC', 'Back in Black'])\n",
    "album_set2 = set([ \"AC/DC\", \"Back in Black\", \"The Dark Side of the Moon\"])\n",
    "album_set3"
   ],
   "execution_count": 25,
   "outputs": [
    {
     "data": {
      "text/plain": "{'AC/DC', 'Back in Black', 'The Dark Side of the Moon', 'Thriller'}"
     },
     "execution_count": 25,
     "metadata": {},
     "output_type": "execute_result"
    }
   ]
  },
  {
   "cell_type": "markdown",
   "metadata": {
    "id": "EBx_eDkjxG1a"
   },
   "source": [
    "<details><summary>Click vào đây để xem lời giải</summary>\n",
    "\n",
    "```python\n",
    "album_set3 = album_set1.union(album_set2)\n",
    "album_set3\n",
    "\n",
    "```\n",
    "\n",
    "</details>\n"
   ]
  },
  {
   "cell_type": "markdown",
   "metadata": {
    "id": "cmPVOV62xG1b"
   },
   "source": [
    "<hr>\n"
   ]
  },
  {
   "cell_type": "markdown",
   "metadata": {
    "id": "VCXi6jFcxG1b"
   },
   "source": [
    "Tìm xem liệu <code>album_set1</code> có là subset của <code>album_set3</code>:\n"
   ]
  },
  {
   "cell_type": "code",
   "metadata": {
    "id": "sgZ9BNgdxG1b"
   },
   "source": [
    "# Viết code của bạn xuống đây và nhấn Shift+Enter để thực hiện\n",
    "album_set1.issubset(album_set3)"
   ],
   "execution_count": 26,
   "outputs": [
    {
     "data": {
      "text/plain": "True"
     },
     "execution_count": 26,
     "metadata": {},
     "output_type": "execute_result"
    }
   ]
  },
  {
   "cell_type": "markdown",
   "metadata": {
    "id": "NT1JzMUOxG1b"
   },
   "source": [
    "<details><summary>Click vào đây để xem lời giải</summary>\n",
    "\n",
    "```python\n",
    "album_set1.issubset(album_set3)\n",
    "\n",
    "```\n",
    "\n",
    "</details>\n"
   ]
  }
 ]
}
